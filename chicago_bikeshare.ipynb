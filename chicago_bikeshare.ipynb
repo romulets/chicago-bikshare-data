{
 "cells": [
  {
   "cell_type": "markdown",
   "metadata": {},
   "source": [
    "# Chicago Bike Share"
   ]
  },
  {
   "cell_type": "code",
   "execution_count": 1,
   "metadata": {},
   "outputs": [],
   "source": [
    "import csv\n",
    "import matplotlib.pyplot as plt"
   ]
  },
  {
   "cell_type": "markdown",
   "metadata": {},
   "source": [
    "Let's read the data as a list"
   ]
  },
  {
   "cell_type": "code",
   "execution_count": 9,
   "metadata": {},
   "outputs": [
    {
     "name": "stdout",
     "output_type": "stream",
     "text": [
      "Reading the document...\n"
     ]
    }
   ],
   "source": [
    "print(\"Reading the document...\")\n",
    "with open(\"chicago.csv\", \"r\") as file_read:\n",
    "    reader = csv.reader(file_read)\n",
    "    data_list = list(reader)"
   ]
  },
  {
   "cell_type": "markdown",
   "metadata": {},
   "source": [
    "Let's check how many rows do we have"
   ]
  },
  {
   "cell_type": "code",
   "execution_count": 10,
   "metadata": {},
   "outputs": [
    {
     "name": "stdout",
     "output_type": "stream",
     "text": [
      "Num of rows 1551506\n"
     ]
    }
   ],
   "source": [
    "print(\"Num of rows\", len(data_list))"
   ]
  },
  {
   "cell_type": "markdown",
   "metadata": {},
   "source": [
    "Printing the first row of data_list (the header) to check if it worked"
   ]
  },
  {
   "cell_type": "code",
   "execution_count": 11,
   "metadata": {},
   "outputs": [
    {
     "name": "stdout",
     "output_type": "stream",
     "text": [
      "['Start Time', 'End Time', 'Trip Duration', 'Start Station', 'End Station', 'User Type', 'Gender', 'Birth Year']\n"
     ]
    }
   ],
   "source": [
    "print(data_list[0])"
   ]
  },
  {
   "cell_type": "markdown",
   "metadata": {},
   "source": [
    "Printing the second row of data_list to see some data"
   ]
  },
  {
   "cell_type": "code",
   "execution_count": 12,
   "metadata": {},
   "outputs": [
    {
     "name": "stdout",
     "output_type": "stream",
     "text": [
      "['2017-01-01 00:00:36', '2017-01-01 00:06:32', '356', 'Canal St & Taylor St', 'Canal St & Monroe St (*)', 'Customer', '', '']\n"
     ]
    }
   ],
   "source": [
    "print(data_list[1])"
   ]
  },
  {
   "cell_type": "markdown",
   "metadata": {},
   "source": [
    "## Tasks"
   ]
  },
  {
   "cell_type": "markdown",
   "metadata": {},
   "source": [
    "### Task 01\n",
    "Print the first 20 rows using a loop to identify the data."
   ]
  },
  {
   "cell_type": "code",
   "execution_count": 17,
   "metadata": {},
   "outputs": [
    {
     "name": "stdout",
     "output_type": "stream",
     "text": [
      "['2017-01-01 00:00:36', '2017-01-01 00:06:32', '356', 'Canal St & Taylor St', 'Canal St & Monroe St (*)', 'Customer', '', '']\n",
      "['2017-01-01 00:02:54', '2017-01-01 00:08:21', '327', 'Larrabee St & Menomonee St', 'Sheffield Ave & Kingsbury St', 'Subscriber', 'Male', '1984.0']\n",
      "['2017-01-01 00:06:06', '2017-01-01 00:18:31', '745', 'Orleans St & Chestnut St (NEXT Apts)', 'Ashland Ave & Blackhawk St', 'Subscriber', 'Male', '1985.0']\n",
      "['2017-01-01 00:07:28', '2017-01-01 00:12:51', '323', 'Franklin St & Monroe St', 'Clinton St & Tilden St', 'Subscriber', 'Male', '1990.0']\n",
      "['2017-01-01 00:07:57', '2017-01-01 00:20:53', '776', 'Broadway & Barry Ave', 'Sedgwick St & North Ave', 'Subscriber', 'Male', '1990.0']\n",
      "['2017-01-01 00:10:44', '2017-01-01 00:21:27', '643', 'State St & Kinzie St', 'Wells St & Polk St', 'Subscriber', 'Male', '1970.0']\n",
      "['2017-01-01 00:11:34', '2017-01-01 00:23:47', '733', 'Wabash Ave & Wacker Pl', 'Clinton St & Tilden St', 'Subscriber', 'Male', '1986.0']\n",
      "['2017-01-01 00:14:57', '2017-01-01 00:26:22', '685', 'Daley Center Plaza', 'Canal St & Monroe St (*)', 'Customer', '', '']\n",
      "['2017-01-01 00:15:03', '2017-01-01 00:26:28', '685', 'Daley Center Plaza', 'Canal St & Monroe St (*)', 'Customer', '', '']\n",
      "['2017-01-01 00:17:01', '2017-01-01 00:29:49', '768', 'Dayton St & North Ave', 'Ogden Ave & Chicago Ave', 'Customer', '', '']\n",
      "['2017-01-01 00:17:13', '2017-01-01 11:03:34', '38781', 'Wilton Ave & Diversey Pkwy', 'Halsted St & Wrightwood Ave', 'Subscriber', 'Female', '1988.0']\n",
      "['2017-01-01 00:18:28', '2017-01-01 00:31:05', '757', 'Canal St & Madison St', 'LaSalle St & Illinois St', 'Customer', '', '']\n",
      "['2017-01-01 00:18:50', '2017-01-01 00:21:47', '177', 'Theater on the Lake', 'Lakeview Ave & Fullerton Pkwy', 'Subscriber', 'Male', '1991.0']\n",
      "['2017-01-01 00:23:41', '2017-01-01 00:29:13', '332', 'Halsted St & Maxwell St', 'Halsted St & 18th St', 'Subscriber', 'Male', '1984.0']\n",
      "['2017-01-01 00:25:47', '2017-01-01 00:39:53', '846', 'Ravenswood Ave & Lawrence Ave', 'Clarendon Ave & Gordon Ter', 'Subscriber', 'Female', '1987.0']\n",
      "['2017-01-01 00:25:47', '2017-01-01 00:43:23', '1056', 'Clark St & Congress Pkwy', 'Wolcott Ave & Polk St', 'Subscriber', 'Male', '1984.0']\n",
      "['2017-01-01 00:26:21', '2017-01-01 00:39:40', '799', 'Ravenswood Ave & Lawrence Ave', 'Clarendon Ave & Gordon Ter', 'Subscriber', 'Male', '1987.0']\n",
      "['2017-01-01 00:27:21', '2017-01-01 00:42:59', '938', 'Millennium Park', 'Michigan Ave & 18th St', 'Subscriber', 'Male', '1991.0']\n",
      "['2017-01-01 00:27:28', '2017-01-01 00:42:44', '916', 'Millennium Park', 'Michigan Ave & 18th St', 'Subscriber', 'Female', '1990.0']\n"
     ]
    }
   ],
   "source": [
    "for data in data_list[1:20]:\n",
    "    print(data)"
   ]
  },
  {
   "cell_type": "markdown",
   "metadata": {},
   "source": [
    "### Task 02\n",
    "Print the `gender` of the first 20 rows"
   ]
  },
  {
   "cell_type": "code",
   "execution_count": 18,
   "metadata": {},
   "outputs": [
    {
     "name": "stdout",
     "output_type": "stream",
     "text": [
      "\n",
      "Male\n",
      "Male\n",
      "Male\n",
      "Male\n",
      "Male\n",
      "Male\n",
      "\n",
      "\n",
      "\n",
      "Female\n",
      "\n",
      "Male\n",
      "Male\n",
      "Female\n",
      "Male\n",
      "Male\n",
      "Male\n",
      "Female\n"
     ]
    }
   ],
   "source": [
    "for data in data_list[1:20]:\n",
    "    print(data[6])"
   ]
  },
  {
   "cell_type": "markdown",
   "metadata": {},
   "source": [
    "### Task 3\n",
    "Create a function to add the columns(features) of a list in another list in the same order"
   ]
  },
  {
   "cell_type": "code",
   "execution_count": 25,
   "metadata": {},
   "outputs": [],
   "source": [
    "def column_to_list(data, index):\n",
    "    \"\"\"\n",
    "      Get a data set and returns just the desired column (removing header)\n",
    "      Args:\n",
    "          param1: The data set\n",
    "          param2: The position of the column\n",
    "      Returns:\n",
    "          List with the column's data\n",
    "\n",
    "    \"\"\"\n",
    "    return list(map(lambda d: d[index], data[1:]))"
   ]
  },
  {
   "cell_type": "markdown",
   "metadata": {},
   "source": [
    "Checking the code..."
   ]
  },
  {
   "cell_type": "code",
   "execution_count": 26,
   "metadata": {},
   "outputs": [],
   "source": [
    "# ------------ DO NOT CHANGE ANY CODE HERE ------------\n",
    "assert type(column_to_list(data_list, -2)) is list, \"TASK 3: Wrong type returned. It should return a list.\"\n",
    "assert len(column_to_list(data_list, -2)) == 1551505, \"TASK 3: Wrong length returned.\"\n",
    "assert column_to_list(data_list, -2)[0] == \"\" and column_to_list(data_list, -2)[1] == \"Male\", \"TASK 3: The list doesn't match.\"\n",
    "# -----------------------------------------------------"
   ]
  },
  {
   "cell_type": "markdown",
   "metadata": {},
   "source": [
    "### Task 4\n",
    "Count each gender. You should not use a function to do that."
   ]
  },
  {
   "cell_type": "code",
   "execution_count": 29,
   "metadata": {},
   "outputs": [],
   "source": [
    "genders = column_to_list(data_list, -2)\n",
    "male_list = list(filter(lambda g: g.lower() == 'male', genders))\n",
    "female_list = list(filter(lambda g: g.lower() == 'female', genders))\n",
    "male = len(male_list)\n",
    "female = len(female_list)"
   ]
  },
  {
   "cell_type": "markdown",
   "metadata": {},
   "source": [
    "Checking the code..."
   ]
  },
  {
   "cell_type": "code",
   "execution_count": 30,
   "metadata": {},
   "outputs": [],
   "source": [
    "# ------------ DO NOT CHANGE ANY CODE HERE ------------\n",
    "assert male == 935854 and female == 298784, \"TASK 4: Count doesn't match.\"\n",
    "# -----------------------------------------------------"
   ]
  },
  {
   "cell_type": "markdown",
   "metadata": {},
   "source": [
    "### Task 5\n",
    "Create a function to count the genders. Return a list\n",
    "Should return a `list` with `[count_male, counf_female]` (e.g., `[10, 15]` means 10 Males, 15 Females)"
   ]
  },
  {
   "cell_type": "code",
   "execution_count": 31,
   "metadata": {},
   "outputs": [],
   "source": [
    "def count_gender(data_list):\n",
    "     \"\"\"\n",
    "      Count the genders (Male and Female) in the dataset\n",
    "      Args:\n",
    "          param1: The data set\n",
    "      Returns:\n",
    "          List with the total of males and females in the dataset. \n",
    "          First position male and second female\n",
    "\n",
    "    \"\"\"\n",
    "    genders = column_to_list(data_list, -2)\n",
    "    male_list = list(filter(lambda g: g.lower() == 'male', genders))\n",
    "    female_list = list(filter(lambda g: g.lower() == 'female', genders))\n",
    "    male = len(male_list)\n",
    "    female = len(female_list)\n",
    "    return [male, female]"
   ]
  },
  {
   "cell_type": "markdown",
   "metadata": {},
   "source": [
    "Checking the code..."
   ]
  },
  {
   "cell_type": "code",
   "execution_count": 32,
   "metadata": {},
   "outputs": [],
   "source": [
    "assert type(count_gender(data_list)) is list, \"TASK 5: Wrong type returned. It should return a list.\"\n",
    "assert len(count_gender(data_list)) == 2, \"TASK 5: Wrong lenght returned.\"\n",
    "assert count_gender(data_list)[0] == 935854 and count_gender(data_list)[1] == 298784, \"TASK 5: Returning wrong result!\""
   ]
  },
  {
   "cell_type": "markdown",
   "metadata": {},
   "source": [
    "### Task 6\n",
    "TODO: Create a function to get the most popular gender and print the gender as string.\n",
    "We expect to see \"Male\", \"Female\" or \"Equal\" as answer."
   ]
  },
  {
   "cell_type": "code",
   "execution_count": 33,
   "metadata": {},
   "outputs": [],
   "source": [
    "def most_popular_gender(data_list):\n",
    "     \"\"\"\n",
    "      Finds out what is the most popular gender in the data set\n",
    "      Args:\n",
    "          param1: The data set\n",
    "      Returns:\n",
    "          String answering the question, what is most common? If it's equal, answers 'Equal'\n",
    "    \"\"\"\n",
    "    answer = \"\"\n",
    "    male, female = count_gender(data_list)\n",
    "    if male > female:\n",
    "        answer = 'Male'\n",
    "    elif female > male:\n",
    "        answer = 'Female'\n",
    "    else:\n",
    "        answer = 'Equal'\n",
    "    \n",
    "    return answer"
   ]
  },
  {
   "cell_type": "markdown",
   "metadata": {},
   "source": [
    "Checking the code..."
   ]
  },
  {
   "cell_type": "code",
   "execution_count": 34,
   "metadata": {},
   "outputs": [],
   "source": [
    "assert type(most_popular_gender(data_list)) is str, \"TASK 6: Wrong type returned. It should return a string.\"\n",
    "assert most_popular_gender(data_list) == \"Male\", \"TASK 6: Returning wrong result!\""
   ]
  },
  {
   "cell_type": "markdown",
   "metadata": {},
   "source": [
    "If it's everything running as expected, check this graph!"
   ]
  },
  {
   "cell_type": "code",
   "execution_count": 35,
   "metadata": {},
   "outputs": [
    {
     "data": {
      "image/png": "[encoded data removed]",
      "text/plain": [
       "<Figure size 432x288 with 1 Axes>"
      ]
     },
     "metadata": {},
     "output_type": "display_data"
    }
   ],
   "source": [
    "gender_list = column_to_list(data_list, -2)\n",
    "types = [\"Male\", \"Female\"]\n",
    "quantity = count_gender(data_list)\n",
    "y_pos = list(range(len(types)))\n",
    "plt.bar(y_pos, quantity)\n",
    "plt.ylabel('Quantity')\n",
    "plt.xlabel('Gender')\n",
    "plt.xticks(y_pos, types)\n",
    "plt.title('Quantity by Gender')\n",
    "plt.show(block=True)"
   ]
  },
  {
   "cell_type": "markdown",
   "metadata": {},
   "source": [
    "### Task 7\n",
    "Plot a similar graph for user_types. Make sure the legend is correct.\n"
   ]
  },
  {
   "cell_type": "code",
   "execution_count": 44,
   "metadata": {},
   "outputs": [
    {
     "name": "stdout",
     "output_type": "stream",
     "text": [
      "4\n"
     ]
    },
    {
     "data": {
      "image/png": "[encoded data removed]",
      "text/plain": [
       "<Figure size 432x288 with 1 Axes>"
      ]
     },
     "metadata": {},
     "output_type": "display_data"
    }
   ],
   "source": [
    "user_types = column_to_list(data_list, -3)\n",
    "customer = len(list(filter(lambda u: u.lower() == 'customer', user_types)))\n",
    "dependent = len(list(filter(lambda u: u.lower() == 'dependent', user_types)))\n",
    "subscriber = len(list(filter(lambda u: u.lower() == 'subscriber', user_types)))\n",
    "\n",
    "y_pos = list(range(3))\n",
    "plt.bar(y_pos, [customer, dependent, subscriber])\n",
    "plt.ylabel('Quantity')\n",
    "plt.xlabel('User Type')\n",
    "plt.xticks(y_pos, ['Customer', 'Dependent', 'Subscriber'])\n",
    "plt.title('Quantity by User Type')\n",
    "plt.show(block=True)\n"
   ]
  },
  {
   "cell_type": "markdown",
   "metadata": {},
   "source": [
    "### Task 8\n",
    "Answer the following question"
   ]
  },
  {
   "cell_type": "code",
   "execution_count": 45,
   "metadata": {},
   "outputs": [
    {
     "name": "stdout",
     "output_type": "stream",
     "text": [
      "\n",
      "TASK 8: Why the following condition is False?\n",
      "male + female == len(data_list): False\n",
      "Answer: Because there are many rows without gender declared\n"
     ]
    }
   ],
   "source": [
    "male, female = count_gender(data_list)\n",
    "print(\"\\nTASK 8: Why the following condition is False?\")\n",
    "print(\"male + female == len(data_list):\", male + female == len(data_list))\n",
    "answer = \"Because there are many rows without declared gender\"\n",
    "print(\"Answer:\", answer)"
   ]
  },
  {
   "cell_type": "markdown",
   "metadata": {},
   "source": [
    "Checking the code..."
   ]
  },
  {
   "cell_type": "code",
   "execution_count": 46,
   "metadata": {},
   "outputs": [],
   "source": [
    "assert answer != \"Type your answer here.\", \"TASK 8: Write your own answer!\""
   ]
  },
  {
   "cell_type": "markdown",
   "metadata": {},
   "source": [
    "### Task 9\n",
    "TODO: Find the Minimum, Maximum, Mean and Median trip duration.\n",
    "You should not use ready functions to do that, like max() or min()."
   ]
  },
  {
   "cell_type": "code",
   "execution_count": 53,
   "metadata": {},
   "outputs": [
    {
     "name": "stdout",
     "output_type": "stream",
     "text": [
      "\n",
      "TASK 9: Printing the min, max, mean and median\n",
      "Min:  60.0 Max:  86338.0 Mean:  939.7777590146342 Median:  0.0\n"
     ]
    }
   ],
   "source": [
    "trip_duration_list = column_to_list(data_list, 2)\n",
    "min_trip = 0.\n",
    "max_trip = 0.\n",
    "mean_trip = 0.\n",
    "median_trip = 0.\n",
    "\n",
    "min_trip = float(trip_duration_list[0])\n",
    "\n",
    "for trip_duration in trip_duration_list:\n",
    "    current_trip = float(trip_duration)\n",
    "    \n",
    "    if current_trip > max_trip:\n",
    "        max_trip = current_trip\n",
    "        \n",
    "    if current_trip < min_trip:\n",
    "        min_trip = current_trip\n",
    "    \n",
    "    mean_trip += current_trip\n",
    "    \n",
    "mean_trip /= len(trip_duration_list)\n",
    "\n",
    "\n",
    "print(\"\\nTASK 9: Printing the min, max, mean and median\")\n",
    "print(\"Min: \", min_trip, \"Max: \", max_trip, \"Mean: \", mean_trip, \"Median: \", median_trip)"
   ]
  },
  {
   "cell_type": "markdown",
   "metadata": {},
   "source": [
    "### Task 10\n",
    "Gender is easy because usually only have a few options. How about start_stations? How many options does it have?\n",
    "Check types how many start_stations do we have using set()"
   ]
  },
  {
   "cell_type": "code",
   "execution_count": 55,
   "metadata": {},
   "outputs": [
    {
     "name": "stdout",
     "output_type": "stream",
     "text": [
      "\n",
      "TASK 10: Printing start stations:\n",
      "582\n",
      "['Ashland Ave & Grand Ave', 'Clark St & Montrose Ave', 'Kimbark Ave & 53rd St', 'Lake Shore Dr & Wellington Ave', 'Broadway & Berwyn Ave', 'Halsted St & 56th St', 'Ashland Ave & Division St', 'Canal St & Taylor St', 'Wells St & Polk St', 'Kilbourn Ave & Irving Park Rd', 'Bosworth Ave & Howard St', 'Larrabee St & Division St', 'Wilton Ave & Belmont Ave', 'Racine Ave & 65th St', 'Halsted St & 47th Pl', 'Marshfield Ave & 44th St', 'Wentworth Ave & 33rd St', 'Broadway & Thorndale Ave', 'LaSalle St & Adams St', 'Ashland Ave & Blackhawk St', 'Sheffield Ave & Waveland Ave', 'Halsted St & North Branch St', 'Princeton Ave & 47th St', 'Pulaski Rd & Madison St', 'Calumet Ave & 71st St', 'Larrabee St & Kingsbury St', 'Dorchester Ave & 49th St', 'Clark St & Armitage Ave', 'Sheffield Ave & Wellington Ave', 'Broadway & Argyle St', 'Desplaines St & Kinzie St', 'East Ave & Madison St', 'Damen Ave & Coulter St', 'Stetson Ave & South Water St', 'Eberhart Ave & 61st St', 'Ogden Ave & Chicago Ave', 'Albany Ave & Bloomingdale Ave', 'Clinton St & Lake St', 'Leavitt St & Archer Ave', 'Ritchie Ct & Banks St', 'Greenview Ave & Diversey Pkwy', 'Humphrey Ave & Ontario St', 'Halsted St & 63rd St', 'Greenwood Ave & 47th St', 'State St & 35th St', 'Wood St & Taylor St', 'Lake Shore Dr & Belmont Ave', 'University Library (NU)', 'Ogden Ave & Roosevelt Rd', 'Western Ave & Granville Ave', 'Wabash Ave & 16th St', 'St. Louis Ave & Balmoral Ave', 'Seeley Ave & Garfield Blvd', 'Clark St & North Ave', 'Drake Ave & Addison St', 'Washtenaw Ave & Lawrence Ave', 'Halsted St & Archer Ave', 'McClurg Ct & Illinois St', 'Stave St & Armitage Ave', 'Mason Ave & Madison St', 'Michigan Ave & Congress Pkwy', 'Lincoln Ave & Belmont Ave', 'Clybourn Ave & Division St', 'Cottage Grove Ave & 83rd St', 'Ashland Ave & 21st St', 'Mies van der Rohe Way & Chestnut St', 'Clark St & Columbia Ave', 'Wells St & 19th St', 'Ashland Ave & 50th St', 'MLK Jr Dr & 29th St', 'Princeton Ave & Garfield Blvd', 'May St & 69th St', 'Ashland Ave & 69th St', 'Halsted St & Diversey Pkwy', 'Buckingham Fountain', 'Cityfront Plaza Dr & Pioneer Ct', 'Central Park Ave & Elbridge Ave', 'Washtenaw Ave & 15th St (*)', 'Albany Ave & 26th St', 'Damen Ave & Cullerton St', 'Kedzie Ave & Palmer Ct', 'Glenwood Ave & Touhy Ave', 'Millennium Park', 'Sheridan Rd & Lawrence Ave', 'Clinton St & Washington Blvd', 'Wolcott Ave & Polk St', 'State St & Kinzie St', 'Michigan Ave & Washington St', 'Clark St & Lunt Ave', 'Clark St & Elm St', 'Troy St & North Ave', 'Seeley Ave & Roscoe St', 'Clinton St & Jackson Blvd', 'Marion St & South Blvd', 'Oak Park Ave & Harrison St', 'Ogden Ave & Congress Pkwy', 'Cornell Ave & Hyde Park Blvd', 'Warren Park West', 'Eckhart Park', 'Franklin St & Chicago Ave', 'South Chicago Ave & 83rd St', 'Shields Ave & 28th Pl', 'Ashland Ave & Lake St', 'Western Ave & Monroe St', 'Leavitt St & Addison St', 'Stony Island Ave & 71st St', 'Hampden Ct & Diversey Pkwy', 'MLK Jr Dr & 63rd St', 'Ashland Ave & McDowell Ave', 'Ashland Ave & Grace St', 'Adler Planetarium', 'Southport Ave & Clybourn Ave', 'Glenwood Ave & Morse Ave', 'State St & 29th St', 'Halsted St & Maxwell St', 'Larrabee St & Webster Ave', 'Wood St & Division St', 'Halsted St & Wrightwood Ave', 'Paulina St & 18th St', 'Throop St & 52nd St', 'Cicero Ave & Quincy St', 'Lake Shore Dr & North Blvd', 'Lincoln Ave & Fullerton Ave', 'Sheffield Ave & Fullerton Ave', 'Western Ave & 28th St', 'Wabash Ave & Grand Ave', 'Ellis Ave & 60th St', 'Sheridan Rd & Loyola Ave', 'Ellis Ave & 83rd St', 'Stony Island Ave & 82nd St', 'Knox Ave & Montrose Ave', 'Stony Island Ave & 75th St', 'Wolcott Ave & Fargo Ave', 'Ashland Ave & Wellington Ave', 'Loomis St & Archer Ave', 'Wood St & Hubbard St', 'Clark St & Touhy Ave', 'Ashland Ave & Wrightwood Ave', 'Marine Dr & Ainslie St', 'Streeter Dr & Grand Ave', 'Pulaski Rd & Lake St', 'Cottage Grove Ave & 63rd St', 'Prairie Ave & Garfield Blvd', 'Oakley Ave & Touhy Ave', 'Richmond St & Diversey Ave', 'Damen Ave & Chicago Ave', 'Campbell Ave & Montrose Ave', 'Yates Blvd & 75th St', 'Pine Grove Ave & Waveland Ave', 'Morgan St & 31st St', 'Ravenswood Ave & Irving Park Rd', 'Clifton Ave & Armitage Ave', 'Clark St & Wrightwood Ave', 'Kenton Ave & Madison St', 'Michigan Ave & Pearson St', 'Green St & Randolph St', 'Rush St & Cedar St', 'Michigan Ave & Jackson Blvd', 'Damen Ave & 59th St', 'Broadway & Granville Ave', 'Calumet Ave & 51st St', 'Ashland Ave & Garfield Blvd', 'State St & 76th St', 'Lombard Ave & Garfield St', 'Chicago Ave & Washington St', 'Canal St & Madison St', 'Kingsbury St & Erie St', 'Southport Ave & Wrightwood Ave', 'South Shore Dr & 74th St', 'Troy St & Elston Ave', 'Albany (Kedzie) Ave & Montrose Ave', 'Lake Park Ave & 35th St', 'Ellis Ave & 55th St', 'Loomis St & Jackson Blvd', 'Western Ave & 21st St', 'South Shore Dr & 71st St', 'Logan Blvd & Elston Ave', 'Wentworth Ave & 24th St', 'Woodlawn Ave & 55th St', 'Michigan Ave & Lake St', 'Clark St & Elmdale Ave', 'Field Museum', 'Ellis Ave & 58th St', 'Wabash Ave & Cermak Rd', 'Francisco Ave & Foster Ave', 'Greenview Ave & Jarvis Ave', 'Theater on the Lake', 'Union Ave & Root St', 'St. Clair St & Erie St', 'Damen Ave & Augusta Blvd', 'Racine Ave & Randolph St', 'Halsted St & 59th St', 'Western Ave & Howard St', 'McCormick Place', 'Stockton Dr & Wrightwood Ave', 'Federal St & Polk St', 'Noble St & Milwaukee Ave', 'Sedgwick St & North Ave', 'California Ave & 23rd Pl', 'State St & Pershing Rd', 'Spaulding Ave & Armitage Ave', 'Clark St & 9th St (AMLI)', 'Elmwood Ave & Austin St', 'Damen Ave & Grand Ave', 'Claremont Ave & Hirsch St', 'Columbus Dr & Randolph St', 'Clarendon Ave & Junior Ter', 'Drake Ave & Montrose Ave', 'Lake Shore Dr & Monroe St', 'Racine Ave & 61st St', 'Ravenswood Ave & Montrose Ave (*)', 'Sheffield Ave & Kingsbury St', 'Loomis St & Taylor St (*)', 'Clinton St & Polk St (*)', 'Damen Ave & Wellington Ave', 'Clark St & Jarvis Ave', 'Keystone Ave & Montrose Ave', 'Field Blvd & South Water St', 'Dearborn St & Monroe St', 'Humboldt Blvd & Armitage Ave', 'Rainbow Beach', 'Cottage Grove Ave & 67th St', 'Lawndale Ave & 23rd St', 'Carpenter St & Huron St', 'Broadway & Belmont Ave', 'Wallace St & 35th St', 'Monticello Ave & Irving Park Rd', 'LaSalle St & Jackson Blvd', 'Clark St & Schiller St', 'Ravenswood Ave & Berteau Ave', 'Leavitt St & Lawrence Ave', 'Damen Ave & Clybourn Ave', 'Aberdeen St & Jackson Blvd', 'Ashland Ave & Harrison St', 'Bissell St & Armitage Ave', 'Peoria St & Jackson Blvd', 'Jefferson St & Monroe St', 'Indiana Ave & 26th St', 'Western Ave & Lunt Ave', 'Emerald Ave & 31st St', 'Marshfield Ave & Cortland St', 'Ashland Ave & 13th St', 'Normal Ave & 72nd St', 'Western Blvd & 48th Pl', 'Western Ave & Congress Pkwy', 'Lincoln Ave & Leavitt St', 'Southport Ave & Irving Park Rd', 'Clark St & Winnemac Ave', 'Pulaski Rd & Eddy St', 'Wells St & Huron St', 'Kostner Ave & Lake St', 'Conservatory Dr & Lake St', 'Wilton Ave & Diversey Pkwy', 'Damen Ave & Pershing Rd', 'Broadway & Cornelia Ave', 'Fairbanks Ct & Grand Ave', 'Kedzie Ave & Foster Ave', 'Racine Ave & Belmont Ave', 'Clark St & Bryn Mawr Ave', 'Loomis St & Lexington St', 'Milwaukee Ave & Cuyler Ave', 'Dearborn St & Adams St', 'Clinton St & 18th St', 'Vernon Ave & 79th St', 'Ashland Ave & 66th St', 'Greenview Ave & Fullerton Ave', 'Orleans St & Merchandise Mart Plaza', 'Halsted St & 37th St', 'Central St & Girard Ave', 'Cottage Grove Ave & 78th St', 'Broadway & Sheridan Rd', 'Larrabee St & Oak St', 'Emerald Ave & 28th St', 'Cicero Ave & Lake St', 'Desplaines St & Jackson Blvd', 'Halsted St & 51st St', 'Jeffery Blvd & 67th St', 'Benson Ave & Church St', 'California Ave & 21st St', 'Hermitage Ave & Polk St', 'Halsted St & 18th St', 'California Ave & Francis Pl', 'Canal St & Adams St', 'Clark St & Leland Ave', 'Phillips Ave & 82nd St', 'Sacramento Blvd & Franklin Blvd', 'Woodlawn Ave & Lake Park Ave', 'Cannon Dr & Fullerton Ave', 'State St & Randolph St', 'Southport Ave & Belmont Ave', 'Clark St & Randolph St', 'Marshfield Ave & 59th St', 'Hoyne Ave & 47th St', 'Damen Ave & Sunnyside Ave', 'Daley Center Plaza', 'Broadway & Wilson Ave', 'Lake Park Ave & 56th St', 'Western Ave & Division St', 'Southport Ave & Roscoe St', 'Clark St & Congress Pkwy', 'Pine Grove Ave & Irving Park Rd', 'Sheridan Rd & Greenleaf Ave', 'Morgan St & Pershing Rd', 'Calumet Ave & 33rd St', 'Morgan St & 18th St', 'Kingsbury St & Kinzie St', 'Avers Ave & Belmont Ave', 'California Ave & Milwaukee Ave', 'Ashland Ave & Pershing Rd', 'Ada St & Washington Blvd', 'Central Park Ave & Ogden Ave', 'Franklin St & Lake St', 'Kedzie Ave & Roosevelt Rd', 'Leavitt St & North Ave', 'MLK Jr Dr & Oakwood Blvd', '2112 W Peterson Ave', 'Shields Ave & 31st St', 'Canal St & Monroe St (*)', 'Franklin St & Monroe St', 'Morgan St & Polk St', 'Halsted St & Roscoe St', 'Rockwell St & Eastwood Ave', 'Sheridan Rd & Montrose Ave', 'Campbell Ave & North Ave', 'Clark St & Berwyn Ave', 'Halsted St & 35th St (*)', 'Halsted St & Polk St', 'State St & Van Buren St', 'MLK Jr Dr & 83rd St', 'Keystone Ave & Fullerton Ave', 'Wabash Ave & Wacker Pl', 'Damen Ave & Division St', 'Cottage Grove Ave & 43rd St', 'Shedd Aquarium', 'Clark St & Grace St', 'California Ave & Lake St', 'Wells St & Elm St', 'California Ave & Cortez St', 'Blue Island Ave & 18th St', 'Racine Ave & 15th St', 'Damen Ave & Melrose Ave', 'Racine Ave (May St) & Fulton St', 'California Ave & Division St', 'Mies van der Rohe Way & Chicago Ave', 'Kostner Ave & Adams St', 'Indiana Ave & Roosevelt Rd', 'Fairfield Ave & Roosevelt Rd', 'Michigan Ave & Madison St', 'Chicago Ave & Sheridan Rd', 'Campbell Ave & Fullerton Ave', 'Clinton St & Roosevelt Rd', 'Western Ave & Leland Ave', 'Clark St & Wellington Ave', 'Artesian Ave & Hubbard St', 'Laramie Ave & Madison St', 'Dodge Ave & Church St', 'MLK Jr Dr & 56th St (*)', 'Winchester Ave & Elston Ave', 'Talman Ave & Addison St', 'University Ave & 57th St', 'Shore Dr & 55th St', 'Harper Ave & 59th St', 'Jeffery Blvd & 76th St', 'Central Park Ave & North Ave', 'Sedgwick St & Huron St', 'Larrabee St & North Ave', 'Normal Ave & Archer Ave', 'Lakeview Ave & Fullerton Pkwy', 'Orleans St & Chestnut St (NEXT Apts)', 'Wentworth Ave & 35th St', 'State St & 33rd St', 'Exchange Ave & 79th St', 'Wisconsin Ave & Madison St', 'Halsted St & Willow St', 'Sangamon St & Washington Blvd (*)', 'Larrabee St & Armitage Ave', 'Lincoln Ave & Roscoe St', 'Central Ave & Chicago Ave', 'Racine Ave & 13th St', 'Damen Ave & Charleston St', 'Racine Ave & Garfield Blvd', 'Central Park Blvd & 5th Ave', 'Financial Pl & Congress Pkwy', 'Indiana Ave & 40th St', 'State St & 19th St', 'Dorchester Ave & 63rd St', 'Kedzie Ave & Harrison St', 'Oak Park Ave & South Blvd', 'Wood St & Milwaukee Ave', 'Lakefront Trail & Bryn Mawr Ave', 'Spaulding Ave & Division St', 'Elizabeth St & 47th St', 'Broadway & Ridge Ave', 'Morgan St & Lake St', 'Orleans St & Ohio St', 'California Ave & Fletcher St', 'Budlong Woods Library', 'Saginaw Ave & Exchange Ave', 'Cottage Grove Ave & 51st St', 'Halsted St & 69th St', 'Wentworth Ave & Archer Ave', 'Halsted St & Blackhawk St (*)', 'Stony Island Ave & 64th St', 'Lincoln Ave & Addison St', 'State St & Harrison St', 'Michigan Ave & Oak St', 'Paulina St & Montrose Ave', 'Central Ave & Madison St', 'Desplaines St & Randolph St', 'Clark St & Lincoln Ave', 'Michigan Ave & 18th St', 'Valli Produce - Evanston Plaza', 'Warren Park East', 'Blackstone Ave & Hyde Park Blvd', 'Clinton St & Tilden St', 'Clinton St & Madison St', 'Dusable Harbor', 'Montrose Harbor', 'Western Ave & Winnebago Ave', 'Calumet Ave & 21st St', 'Vernon Ave & 75th St', 'Oakley Ave & Roscoe St', 'Maplewood Ave & Peterson Ave', 'Forest Ave & Lake St', 'Rush St & Hubbard St', 'Wabash Ave & 8th St', 'Wabash Ave & Adams St', 'Shields Ave & 43rd St', 'Central Ave & Lake St', 'Ashland Ave & Chicago Ave', 'Forest Ave & Chicago Ave', 'Central St Metra', 'Austin Blvd & Lake St', 'Kedzie Ave & 24th St', 'Eastlake Ter & Rogers Ave', 'Bennett Ave & 79th St', 'Rush St & Superior St', 'Ridgeland Ave & Lake St', 'MLK Jr Dr & 47th St', 'Museum of Science and Industry', 'Ravenswood Ave & Lawrence Ave', 'Milwaukee Ave & Wabansia Ave', 'Dearborn Pkwy & Delaware Pl', 'Milwaukee Ave & Rockwell St', 'Calumet Ave & 35th St', 'Wabash Ave & 83rd St', 'Pulaski Rd & Congress Pkwy', 'Prairie Ave & 43rd St', 'Ashland Ave & 63rd St', 'California Ave & North Ave', 'Leavitt St & Armitage Ave', 'Lincoln Ave & Belle Plaine Ave', 'Western Ave & 24th St', 'Manor Ave & Leland Ave', 'Green St & Madison St', 'Lake Park Ave & 47th St', 'Ashland Ave & Augusta Blvd', 'Clark St & Schreiber Ave', 'Lombard Ave & Madison St', 'California Ave & Byron St', 'Lake Shore Dr & Ohio St', 'Franklin St & Quincy St', 'Ashland Ave & Belle Plaine Ave', 'Aberdeen St & Monroe St', 'Racine Ave & Wrightwood Ave', 'Morgan Ave & 14th Pl', 'Kedzie Ave & Milwaukee Ave', 'Damen Ave & Madison St', 'Wabash Ave & Roosevelt Rd', 'Kedzie Ave & 21st St', 'Austin Blvd & Chicago Ave', 'Broadway & Waveland Ave', 'Racine Ave & 18th St', 'Kedzie Ave & Leland Ave', 'Clark St & Lake St', 'Wells St & Walton St', 'Oakley Ave & Irving Park Rd', 'Wells St & Evergreen Ave', 'Cicero Ave & Flournoy St', 'Lincoln Ave & Winona St', 'Cuyler Ave & Augusta St', 'Avondale Ave & Irving Park Rd', 'California Ave & Altgeld St', 'McClurg Ct & Erie St', 'Kedzie Ave & Bryn Mawr Ave', 'Wentworth Ave & 63rd St', 'Laramie Ave & Kinzie St', 'Drake Ave & Fullerton Ave', 'Kimball Ave & Belmont Ave', 'Sedgwick St & Webster Ave', '63rd St Beach', 'Southport Ave & Clark St', 'Damen Ave & Pierce Ave', 'Stony Island Ave & South Chicago Ave', 'Fort Dearborn Dr & 31st St', 'May St & Taylor St', 'Franklin St & Jackson Blvd', 'Cottage Grove Ave & Oakwood Blvd', 'LaSalle St & Illinois St', 'Sheffield Ave & Webster Ave', 'Clarendon Ave & Leland Ave', 'East Ave & Garfield St', 'Sheridan Rd & Irving Park Rd', 'Ravenswood Ave & Balmoral Ave', 'Milwaukee Ave & Grand Ave', 'Southport Ave & Waveland Ave', 'Laramie Ave & Gladys Ave', 'State St & Pearson St', 'Halsted St & 21st St', 'Sheridan Rd & Buena Ave', 'Burnham Harbor', 'Sedgwick St & Schiller St', 'Racine Ave & 35th St', 'Lincoln Ave & Diversey Pkwy', 'Clark St & Chicago Ave', 'Lake Park Ave & 53rd St', 'Paulina St & Howard St', 'DuSable Museum', 'Commercial Ave & 83rd St', 'Ogden Ave & Race Ave', 'Cottage Grove Ave & 47th St', 'Damen Ave & Cortland St', 'Cottage Grove Ave & 71st St', 'Kedzie Ave & Chicago Ave', 'Racine Ave & Fullerton Ave', 'Clifton Ave & Lawrence Ave', 'Racine Ave & Congress Pkwy', 'Damen Ave & Leland Ave', 'Clarendon Ave & Gordon Ter', 'Lake Shore Dr & Diversey Pkwy', 'Jeffery Blvd & 71st St', 'Michigan Ave & 8th St', 'Woodlawn Ave & 75th St', 'Millard Ave & 26th St', 'South Shore Dr & 67th St', 'Kedzie Ave & Lake St', 'LaSalle St & Washington St', 'Michigan Ave & 14th St', 'Wabash Ave & 87th St', 'Lincoln Ave & Waveland Ave', 'Sawyer Ave & Irving Park Rd', 'Wood St & 35th St', 'Evans Ave & 75th St', 'May St & Cullerton St', 'Stony Island Ave & 67th St', 'Sheffield Ave & Willow St', 'California Ave & 26th St', 'Dayton St & North Ave', 'Sheridan Rd & Noyes St (NU)', 'California Ave & Montrose Ave', 'Ashland Ave & Archer Ave', 'Halsted St & Roosevelt Rd', 'Paulina Ave & North Ave', 'Greenwood Ave & 79th St', 'Christiana Ave & Lawrence Ave', 'Wacker Dr & Washington St', 'Elston Ave & Wabansia Ave', '900 W Harrison St', 'Sheffield Ave & Wrightwood Ave', 'State St & 79th St', 'Larrabee St & Menomonee St', 'Broadway & Barry Ave', 'Western Ave & Walton St', 'Dearborn St & Erie St', 'Ridge Blvd & Howard St', 'Calumet Ave & 18th St', 'Phillips Ave & 79th St', 'Perry Ave & 69th St', 'Canal St & Harrison St', 'Orleans St & Elm St (*)', 'Kilbourn Ave & Milwaukee Ave', 'Indiana Ave & 31st St', 'Damen Ave & 51st St', 'Ridge Blvd & Touhy Ave', 'Rhodes Ave & 32nd St', 'Southport Ave & Wellington Ave', 'Kosciuszko Park', 'Damen Ave & Foster Ave', 'Halsted St & Dickens Ave', 'Wells St & Concord Ln', 'Central Ave & Harrison St', 'Ellis Ave & 53rd St']\n"
     ]
    }
   ],
   "source": [
    "start_stations = list(set(column_to_list(data_list, 3)))\n",
    "\n",
    "print(\"\\nTASK 10: Printing start stations:\")\n",
    "print(len(start_stations))\n",
    "print(start_stations)"
   ]
  },
  {
   "cell_type": "markdown",
   "metadata": {},
   "source": [
    "Checking the code"
   ]
  },
  {
   "cell_type": "code",
   "execution_count": 57,
   "metadata": {},
   "outputs": [],
   "source": [
    "assert len(start_stations) == 582, \"TASK 10: Wrong len of start stations.\""
   ]
  },
  {
   "cell_type": "markdown",
   "metadata": {},
   "source": [
    "### Task 11\n",
    "Go back and make sure you documented your functions. Explain the input, output and what it do. Example:\n",
    "def new_function(param1: int, param2: str) -> list:\n",
    "```\n",
    "    \"\"\"\n",
    "      Example function with annotations.\n",
    "      Args:\n",
    "          param1: The first parameter.\n",
    "          param2: The second parameter.\n",
    "      Returns:\n",
    "          List of X values\n",
    "\n",
    "    \"\"\"\n",
    "```\n"
   ]
  },
  {
   "cell_type": "markdown",
   "metadata": {},
   "source": [
    "### TASK 12 - Challenge! (Optional)\n",
    "Create a function to count user types without hardcoding the types\n",
    "so we can use this function with a different kind of data.\n"
   ]
  },
  {
   "cell_type": "code",
   "execution_count": 64,
   "metadata": {},
   "outputs": [],
   "source": [
    "def count_items(column_list):\n",
    "    item_types = list(set(column_list))\n",
    "    count_items = []\n",
    "    \n",
    "    for item_type in item_types:\n",
    "        items = list(filter(lambda d: d.lower() == item_type.lower(), column_list))\n",
    "        count_items.append(len(items))\n",
    "    \n",
    "    return item_types, count_items\n"
   ]
  },
  {
   "cell_type": "markdown",
   "metadata": {},
   "source": [
    "Checking the code..."
   ]
  },
  {
   "cell_type": "code",
   "execution_count": 65,
   "metadata": {},
   "outputs": [
    {
     "name": "stdout",
     "output_type": "stream",
     "text": [
      "\n",
      "TASK 11: Printing results for count_items()\n",
      "Types: ['', 'Female', 'Male'] Counts: [316867, 298784, 935854]\n"
     ]
    }
   ],
   "source": [
    "# ------------ DO NOT CHANGE ANY CODE HERE ------------\n",
    "column_list = column_to_list(data_list, -2)\n",
    "types, counts = count_items(column_list)\n",
    "print(\"\\nTASK 11: Printing results for count_items()\")\n",
    "print(\"Types:\", types, \"Counts:\", counts)\n",
    "assert len(types) == 3, \"TASK 11: There are 3 types of gender!\"\n",
    "assert sum(counts) == 1551505, \"TASK 11: Returning wrong result!\"\n",
    "# -----------------------------------------------------"
   ]
  }
 ],
 "metadata": {
  "kernelspec": {
   "display_name": "Python 3",
   "language": "python",
   "name": "python3"
  },
  "language_info": {
   "codemirror_mode": {
    "name": "ipython",
    "version": 3
   },
   "file_extension": ".py",
   "mimetype": "text/x-python",
   "name": "python",
   "nbconvert_exporter": "python",
   "pygments_lexer": "ipython3",
   "version": "3.6.5"
  }
 },
 "nbformat": 4,
 "nbformat_minor": 2
}
