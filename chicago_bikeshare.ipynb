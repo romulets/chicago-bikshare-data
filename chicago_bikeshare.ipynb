{
 "cells": [
  {
   "cell_type": "markdown",
   "metadata": {},
   "source": [
    "# Chicago Bike Share"
   ]
  },
  {
   "cell_type": "code",
   "execution_count": 1,
   "metadata": {},
   "outputs": [],
   "source": [
    "import csv\n",
    "import matplotlib.pyplot as plt"
   ]
  },
  {
   "cell_type": "markdown",
   "metadata": {},
   "source": [
    "Let's read the data as a list"
   ]
  },
  {
   "cell_type": "code",
   "execution_count": 2,
   "metadata": {},
   "outputs": [
    {
     "name": "stdout",
     "output_type": "stream",
     "text": [
      "Reading the document...\n"
     ]
    }
   ],
   "source": [
    "print(\"Reading the document...\")\n",
    "with open(\"chicago.csv\", \"r\") as file_read:\n",
    "    reader = csv.reader(file_read)\n",
    "    data_list = list(reader)"
   ]
  },
  {
   "cell_type": "markdown",
   "metadata": {},
   "source": [
    "Let's check how many rows do we have"
   ]
  },
  {
   "cell_type": "code",
   "execution_count": 3,
   "metadata": {},
   "outputs": [
    {
     "name": "stdout",
     "output_type": "stream",
     "text": [
      "Num of rows 1551506\n"
     ]
    }
   ],
   "source": [
    "print(\"Num of rows\", len(data_list))"
   ]
  },
  {
   "cell_type": "markdown",
   "metadata": {},
   "source": [
    "Printing the first row of data_list (the header) to check if it worked"
   ]
  },
  {
   "cell_type": "code",
   "execution_count": 4,
   "metadata": {},
   "outputs": [
    {
     "name": "stdout",
     "output_type": "stream",
     "text": [
      "['Start Time', 'End Time', 'Trip Duration', 'Start Station', 'End Station', 'User Type', 'Gender', 'Birth Year']\n"
     ]
    }
   ],
   "source": [
    "print(data_list[0])"
   ]
  },
  {
   "cell_type": "markdown",
   "metadata": {},
   "source": [
    "Printing the second row of data_list to see some data"
   ]
  },
  {
   "cell_type": "code",
   "execution_count": 5,
   "metadata": {},
   "outputs": [
    {
     "name": "stdout",
     "output_type": "stream",
     "text": [
      "['2017-01-01 00:00:36', '2017-01-01 00:06:32', '356', 'Canal St & Taylor St', 'Canal St & Monroe St (*)', 'Customer', '', '']\n"
     ]
    }
   ],
   "source": [
    "print(data_list[1])"
   ]
  },
  {
   "cell_type": "markdown",
   "metadata": {},
   "source": [
    "## Tasks"
   ]
  },
  {
   "cell_type": "markdown",
   "metadata": {},
   "source": [
    "### Task 01\n",
    "Print the first 20 rows using a loop to identify the data."
   ]
  },
  {
   "cell_type": "code",
   "execution_count": 6,
   "metadata": {},
   "outputs": [
    {
     "name": "stdout",
     "output_type": "stream",
     "text": [
      "['2017-01-01 00:00:36', '2017-01-01 00:06:32', '356', 'Canal St & Taylor St', 'Canal St & Monroe St (*)', 'Customer', '', '']\n",
      "['2017-01-01 00:02:54', '2017-01-01 00:08:21', '327', 'Larrabee St & Menomonee St', 'Sheffield Ave & Kingsbury St', 'Subscriber', 'Male', '1984.0']\n",
      "['2017-01-01 00:06:06', '2017-01-01 00:18:31', '745', 'Orleans St & Chestnut St (NEXT Apts)', 'Ashland Ave & Blackhawk St', 'Subscriber', 'Male', '1985.0']\n",
      "['2017-01-01 00:07:28', '2017-01-01 00:12:51', '323', 'Franklin St & Monroe St', 'Clinton St & Tilden St', 'Subscriber', 'Male', '1990.0']\n",
      "['2017-01-01 00:07:57', '2017-01-01 00:20:53', '776', 'Broadway & Barry Ave', 'Sedgwick St & North Ave', 'Subscriber', 'Male', '1990.0']\n",
      "['2017-01-01 00:10:44', '2017-01-01 00:21:27', '643', 'State St & Kinzie St', 'Wells St & Polk St', 'Subscriber', 'Male', '1970.0']\n",
      "['2017-01-01 00:11:34', '2017-01-01 00:23:47', '733', 'Wabash Ave & Wacker Pl', 'Clinton St & Tilden St', 'Subscriber', 'Male', '1986.0']\n",
      "['2017-01-01 00:14:57', '2017-01-01 00:26:22', '685', 'Daley Center Plaza', 'Canal St & Monroe St (*)', 'Customer', '', '']\n",
      "['2017-01-01 00:15:03', '2017-01-01 00:26:28', '685', 'Daley Center Plaza', 'Canal St & Monroe St (*)', 'Customer', '', '']\n",
      "['2017-01-01 00:17:01', '2017-01-01 00:29:49', '768', 'Dayton St & North Ave', 'Ogden Ave & Chicago Ave', 'Customer', '', '']\n",
      "['2017-01-01 00:17:13', '2017-01-01 11:03:34', '38781', 'Wilton Ave & Diversey Pkwy', 'Halsted St & Wrightwood Ave', 'Subscriber', 'Female', '1988.0']\n",
      "['2017-01-01 00:18:28', '2017-01-01 00:31:05', '757', 'Canal St & Madison St', 'LaSalle St & Illinois St', 'Customer', '', '']\n",
      "['2017-01-01 00:18:50', '2017-01-01 00:21:47', '177', 'Theater on the Lake', 'Lakeview Ave & Fullerton Pkwy', 'Subscriber', 'Male', '1991.0']\n",
      "['2017-01-01 00:23:41', '2017-01-01 00:29:13', '332', 'Halsted St & Maxwell St', 'Halsted St & 18th St', 'Subscriber', 'Male', '1984.0']\n",
      "['2017-01-01 00:25:47', '2017-01-01 00:39:53', '846', 'Ravenswood Ave & Lawrence Ave', 'Clarendon Ave & Gordon Ter', 'Subscriber', 'Female', '1987.0']\n",
      "['2017-01-01 00:25:47', '2017-01-01 00:43:23', '1056', 'Clark St & Congress Pkwy', 'Wolcott Ave & Polk St', 'Subscriber', 'Male', '1984.0']\n",
      "['2017-01-01 00:26:21', '2017-01-01 00:39:40', '799', 'Ravenswood Ave & Lawrence Ave', 'Clarendon Ave & Gordon Ter', 'Subscriber', 'Male', '1987.0']\n",
      "['2017-01-01 00:27:21', '2017-01-01 00:42:59', '938', 'Millennium Park', 'Michigan Ave & 18th St', 'Subscriber', 'Male', '1991.0']\n",
      "['2017-01-01 00:27:28', '2017-01-01 00:42:44', '916', 'Millennium Park', 'Michigan Ave & 18th St', 'Subscriber', 'Female', '1990.0']\n"
     ]
    }
   ],
   "source": [
    "for data in data_list[1:20]:\n",
    "    print(data)"
   ]
  },
  {
   "cell_type": "markdown",
   "metadata": {},
   "source": [
    "### Task 02\n",
    "Print the `gender` of the first 20 rows"
   ]
  },
  {
   "cell_type": "code",
   "execution_count": 7,
   "metadata": {},
   "outputs": [
    {
     "name": "stdout",
     "output_type": "stream",
     "text": [
      "\n",
      "Male\n",
      "Male\n",
      "Male\n",
      "Male\n",
      "Male\n",
      "Male\n",
      "\n",
      "\n",
      "\n",
      "Female\n",
      "\n",
      "Male\n",
      "Male\n",
      "Female\n",
      "Male\n",
      "Male\n",
      "Male\n",
      "Female\n"
     ]
    }
   ],
   "source": [
    "for data in data_list[1:20]:\n",
    "    print(data[6])"
   ]
  },
  {
   "cell_type": "markdown",
   "metadata": {},
   "source": [
    "### Task 3\n",
    "Create a function to add the columns(features) of a list in another list in the same order"
   ]
  },
  {
   "cell_type": "code",
   "execution_count": 8,
   "metadata": {},
   "outputs": [],
   "source": [
    "def column_to_list(data, index):\n",
    "    \"\"\"\n",
    "      Get a data set and returns just the desired column (removing header)\n",
    "      Args:\n",
    "          param1: The data set\n",
    "          param2: The position of the column\n",
    "      Returns:\n",
    "          List with the column's data\n",
    "\n",
    "    \"\"\"\n",
    "    return list(map(lambda d: d[index], data[1:]))"
   ]
  },
  {
   "cell_type": "markdown",
   "metadata": {},
   "source": [
    "Checking the code..."
   ]
  },
  {
   "cell_type": "code",
   "execution_count": 9,
   "metadata": {},
   "outputs": [],
   "source": [
    "# ------------ DO NOT CHANGE ANY CODE HERE ------------\n",
    "assert type(column_to_list(data_list, -2)) is list, \"TASK 3: Wrong type returned. It should return a list.\"\n",
    "assert len(column_to_list(data_list, -2)) == 1551505, \"TASK 3: Wrong length returned.\"\n",
    "assert column_to_list(data_list, -2)[0] == \"\" and column_to_list(data_list, -2)[1] == \"Male\", \"TASK 3: The list doesn't match.\"\n",
    "# -----------------------------------------------------"
   ]
  },
  {
   "cell_type": "markdown",
   "metadata": {},
   "source": [
    "### Task 4\n",
    "Count each gender. You should not use a function to do that."
   ]
  },
  {
   "cell_type": "code",
   "execution_count": 10,
   "metadata": {},
   "outputs": [],
   "source": [
    "genders = column_to_list(data_list, -2)\n",
    "male_list = list(filter(lambda g: g.lower() == 'male', genders))\n",
    "female_list = list(filter(lambda g: g.lower() == 'female', genders))\n",
    "male = len(male_list)\n",
    "female = len(female_list)"
   ]
  },
  {
   "cell_type": "markdown",
   "metadata": {},
   "source": [
    "Checking the code..."
   ]
  },
  {
   "cell_type": "code",
   "execution_count": 11,
   "metadata": {},
   "outputs": [],
   "source": [
    "# ------------ DO NOT CHANGE ANY CODE HERE ------------\n",
    "assert male == 935854 and female == 298784, \"TASK 4: Count doesn't match.\"\n",
    "# -----------------------------------------------------"
   ]
  },
  {
   "cell_type": "markdown",
   "metadata": {},
   "source": [
    "### Task 5\n",
    "Create a function to count the genders. Return a list\n",
    "Should return a `list` with `[count_male, counf_female]` (e.g., `[10, 15]` means 10 Males, 15 Females)"
   ]
  },
  {
   "cell_type": "code",
   "execution_count": 12,
   "metadata": {},
   "outputs": [],
   "source": [
    "def count_gender(data_list):\n",
    "    \"\"\"\n",
    "        Count the genders (Male and Female) in the dataset\n",
    "        Args:\n",
    "            param1: The data set\n",
    "        Returns:\n",
    "            List with the total of males and females in the dataset. \n",
    "            First position male and second female\n",
    "    \"\"\"\n",
    "    \n",
    "    genders = column_to_list(data_list, -2)\n",
    "    male_list = list(filter(lambda g: g.lower() == 'male', genders))\n",
    "    female_list = list(filter(lambda g: g.lower() == 'female', genders))\n",
    "    male = len(male_list)\n",
    "    female = len(female_list)\n",
    "    return [male, female]"
   ]
  },
  {
   "cell_type": "markdown",
   "metadata": {},
   "source": [
    "Checking the code..."
   ]
  },
  {
   "cell_type": "code",
   "execution_count": 13,
   "metadata": {},
   "outputs": [],
   "source": [
    "assert type(count_gender(data_list)) is list, \"TASK 5: Wrong type returned. It should return a list.\"\n",
    "assert len(count_gender(data_list)) == 2, \"TASK 5: Wrong lenght returned.\"\n",
    "assert count_gender(data_list)[0] == 935854 and count_gender(data_list)[1] == 298784, \"TASK 5: Returning wrong result!\""
   ]
  },
  {
   "cell_type": "markdown",
   "metadata": {},
   "source": [
    "### Task 6\n",
    "TODO: Create a function to get the most popular gender and print the gender as string.\n",
    "We expect to see \"Male\", \"Female\" or \"Equal\" as answer."
   ]
  },
  {
   "cell_type": "code",
   "execution_count": 14,
   "metadata": {},
   "outputs": [],
   "source": [
    "def most_popular_gender(data_list):\n",
    "    \"\"\"\n",
    "        Finds out what is the most popular gender in the data set\n",
    "        Args:\n",
    "            param1: The data set\n",
    "        Returns:\n",
    "            String answering the question, what is most common? If it's equal, answers 'Equal'\n",
    "    \"\"\"\n",
    "    answer = \"\"\n",
    "    male, female = count_gender(data_list)\n",
    "    if male > female:\n",
    "        answer = 'Male'\n",
    "    elif female > male:\n",
    "        answer = 'Female'\n",
    "    else:\n",
    "        answer = 'Equal'\n",
    "    \n",
    "    return answer"
   ]
  },
  {
   "cell_type": "markdown",
   "metadata": {},
   "source": [
    "Checking the code..."
   ]
  },
  {
   "cell_type": "code",
   "execution_count": 15,
   "metadata": {},
   "outputs": [],
   "source": [
    "assert type(most_popular_gender(data_list)) is str, \"TASK 6: Wrong type returned. It should return a string.\"\n",
    "assert most_popular_gender(data_list) == \"Male\", \"TASK 6: Returning wrong result!\""
   ]
  },
  {
   "cell_type": "markdown",
   "metadata": {},
   "source": [
    "If it's everything running as expected, check this graph!"
   ]
  },
  {
   "cell_type": "code",
   "execution_count": 16,
   "metadata": {},
   "outputs": [
    {
     "data": {
      "image/png": "[encoded data removed]",
      "text/plain": [
       "<Figure size 432x288 with 1 Axes>"
      ]
     },
     "metadata": {},
     "output_type": "display_data"
    }
   ],
   "source": [
    "gender_list = column_to_list(data_list, -2)\n",
    "types = [\"Male\", \"Female\"]\n",
    "quantity = count_gender(data_list)\n",
    "y_pos = list(range(len(types)))\n",
    "plt.bar(y_pos, quantity)\n",
    "plt.ylabel('Quantity')\n",
    "plt.xlabel('Gender')\n",
    "plt.xticks(y_pos, types)\n",
    "plt.title('Quantity by Gender')\n",
    "plt.show(block=True)"
   ]
  },
  {
   "cell_type": "markdown",
   "metadata": {},
   "source": [
    "### Task 7\n",
    "Plot a similar graph for user_types. Make sure the legend is correct.\n"
   ]
  },
  {
   "cell_type": "code",
   "execution_count": 17,
   "metadata": {},
   "outputs": [
    {
     "data": {
      "image/png": "[encoded data removed]",
      "text/plain": [
       "<Figure size 432x288 with 1 Axes>"
      ]
     },
     "metadata": {},
     "output_type": "display_data"
    }
   ],
   "source": [
    "user_types = column_to_list(data_list, -3)\n",
    "customer = len(list(filter(lambda u: u.lower() == 'customer', user_types)))\n",
    "dependent = len(list(filter(lambda u: u.lower() == 'dependent', user_types)))\n",
    "subscriber = len(list(filter(lambda u: u.lower() == 'subscriber', user_types)))\n",
    "\n",
    "y_pos = list(range(3))\n",
    "plt.bar(y_pos, [customer, dependent, subscriber])\n",
    "plt.ylabel('Quantity')\n",
    "plt.xlabel('User Type')\n",
    "plt.xticks(y_pos, ['Customer', 'Dependent', 'Subscriber'])\n",
    "plt.title('Quantity by User Type')\n",
    "plt.show(block=True)\n"
   ]
  },
  {
   "cell_type": "markdown",
   "metadata": {},
   "source": [
    "### Task 8\n",
    "Answer the following question"
   ]
  },
  {
   "cell_type": "code",
   "execution_count": 18,
   "metadata": {},
   "outputs": [
    {
     "name": "stdout",
     "output_type": "stream",
     "text": [
      "\n",
      "TASK 8: Why the following condition is False?\n",
      "male + female == len(data_list): False\n",
      "Answer: Because there are many rows without declared gender\n"
     ]
    }
   ],
   "source": [
    "male, female = count_gender(data_list)\n",
    "print(\"\\nTASK 8: Why the following condition is False?\")\n",
    "print(\"male + female == len(data_list):\", male + female == len(data_list))\n",
    "answer = \"Because there are many rows without declared gender\"\n",
    "print(\"Answer:\", answer)"
   ]
  },
  {
   "cell_type": "markdown",
   "metadata": {},
   "source": [
    "Checking the code..."
   ]
  },
  {
   "cell_type": "code",
   "execution_count": 19,
   "metadata": {},
   "outputs": [],
   "source": [
    "assert answer != \"Type your answer here.\", \"TASK 8: Write your own answer!\""
   ]
  },
  {
   "cell_type": "markdown",
   "metadata": {},
   "source": [
    "### Task 9\n",
    "TODO: Find the Minimum, Maximum, Mean and Median trip duration.\n",
    "You should not use ready functions to do that, like max() or min()."
   ]
  },
  {
   "cell_type": "code",
   "execution_count": 31,
   "metadata": {},
   "outputs": [
    {
     "name": "stdout",
     "output_type": "stream",
     "text": [
      "1551505\n",
      "\n",
      "TASK 9: Printing the min, max, mean and median\n",
      "Min:  356.0 Max:  846.0 Mean:  846.0 Median:  670.0\n"
     ]
    }
   ],
   "source": [
    "trip_duration_list = list(map(lambda x: float(x), column_to_list(data_list, 2)))\n",
    "min_trip = 0.\n",
    "max_trip = 0.\n",
    "mean_trip = 0.\n",
    "median_trip = 0.\n",
    "\n",
    "min_trip = trip_duration_list[0]\n",
    "\n",
    "for trip_duration in trip_duration_list:\n",
    "    if current_trip > max_trip:\n",
    "        max_trip = current_trip\n",
    "        \n",
    "    if current_trip < min_trip:\n",
    "        min_trip = current_trip\n",
    "    \n",
    "    mean_trip += current_trip\n",
    "    \n",
    "trip_duration_list_len = len(trip_duration_list)\n",
    "    \n",
    "mean_trip /= trip_duration_list_len\n",
    "\n",
    "sorted_trip_duration_list = sorted(trip_duration_list)\n",
    "\n",
    "if trip_duration_list_len % 2 == 1:\n",
    "    median_pos = (trip_duration_list_len // 2) + 1\n",
    "    median_trip = sorted_trip_duration_list[median_pos]\n",
    "else:\n",
    "    median_pos = trip_duration_list_len / 2\n",
    "    median_trip = (sorted_trip_duration_list[medina_pos] + sorted_trip_duration_list[medina_pos + 1]) / 2\n",
    "\n",
    "print(trip_duration_list_len)\n",
    "\n",
    "print(\"\\nTASK 9: Printing the min, max, mean and median\")\n",
    "print(\"Min: \", min_trip, \"Max: \", max_trip, \"Mean: \", mean_trip, \"Median: \", median_trip)"
   ]
  },
  {
   "cell_type": "markdown",
   "metadata": {},
   "source": [
    "### Task 10\n",
    "Gender is easy because usually only have a few options. How about start_stations? How many options does it have?\n",
    "Check types how many start_stations do we have using set()"
   ]
  },
  {
   "cell_type": "code",
   "execution_count": 21,
   "metadata": {},
   "outputs": [
    {
     "name": "stdout",
     "output_type": "stream",
     "text": [
      "\n",
      "TASK 10: Printing start stations:\n",
      "582\n",
      "['Southport Ave & Wrightwood Ave', 'Michigan Ave & Congress Pkwy', 'Pine Grove Ave & Irving Park Rd', 'Cicero Ave & Quincy St', 'Cottage Grove Ave & 71st St', 'Paulina St & Montrose Ave', 'Larrabee St & Armitage Ave', 'Clark St & Randolph St', 'California Ave & Altgeld St', 'Ridge Blvd & Touhy Ave', 'Southport Ave & Waveland Ave', 'Ellis Ave & 55th St', 'Greenwood Ave & 79th St', 'Rainbow Beach', 'Desplaines St & Randolph St', 'Wood St & Milwaukee Ave', 'Cottage Grove Ave & Oakwood Blvd', 'McClurg Ct & Erie St', 'Clark St & Wellington Ave', 'Dayton St & North Ave', 'Michigan Ave & Jackson Blvd', 'Leavitt St & Archer Ave', 'Southport Ave & Belmont Ave', 'Elmwood Ave & Austin St', 'Commercial Ave & 83rd St', 'Sheffield Ave & Kingsbury St', 'Cicero Ave & Lake St', 'Michigan Ave & Pearson St', 'Ashland Ave & Lake St', 'Orleans St & Ohio St', 'Ashland Ave & 63rd St', 'Lincoln Ave & Belmont Ave', 'California Ave & Francis Pl', 'Ellis Ave & 53rd St', 'Racine Ave & 61st St', 'Ogden Ave & Congress Pkwy', 'Franklin St & Quincy St', 'Kedzie Ave & Lake St', 'Ashland Ave & Augusta Blvd', 'Central Ave & Madison St', 'Racine Ave & 15th St', 'Sheffield Ave & Waveland Ave', 'Sawyer Ave & Irving Park Rd', 'Larrabee St & Division St', 'Greenview Ave & Diversey Pkwy', 'Wabash Ave & Grand Ave', 'Lincoln Ave & Roscoe St', 'Troy St & Elston Ave', 'Seeley Ave & Roscoe St', 'Wolcott Ave & Fargo Ave', 'Kilbourn Ave & Irving Park Rd', 'Racine Ave & 65th St', 'MLK Jr Dr & Oakwood Blvd', 'Wood St & 35th St', 'Halsted St & Willow St', 'State St & 35th St', 'Carpenter St & Huron St', 'Stony Island Ave & 64th St', 'Wabash Ave & 16th St', 'Winchester Ave & Elston Ave', 'MLK Jr Dr & 29th St', 'Theater on the Lake', 'Halsted St & Diversey Pkwy', 'Humphrey Ave & Ontario St', 'Fairbanks Ct & Grand Ave', 'Spaulding Ave & Division St', 'Stony Island Ave & 71st St', 'Rush St & Cedar St', 'Central Ave & Chicago Ave', 'Wells St & Huron St', 'California Ave & Montrose Ave', 'Damen Ave & Grand Ave', 'Kostner Ave & Adams St', 'Clinton St & Washington Blvd', 'Exchange Ave & 79th St', 'Morgan Ave & 14th Pl', 'Western Ave & Winnebago Ave', 'Calumet Ave & 18th St', 'Leavitt St & North Ave', 'Wabash Ave & Roosevelt Rd', 'Monticello Ave & Irving Park Rd', 'Shore Dr & 55th St', 'Marine Dr & Ainslie St', 'Stony Island Ave & 67th St', 'Ravenswood Ave & Balmoral Ave', 'Halsted St & 35th St (*)', 'Morgan St & 18th St', 'Sheffield Ave & Wrightwood Ave', 'Michigan Ave & 18th St', 'Wood St & Hubbard St', 'Ada St & Washington Blvd', 'Laramie Ave & Madison St', 'Damen Ave & Pierce Ave', 'Phillips Ave & 79th St', 'Western Ave & 28th St', 'Wells St & Evergreen Ave', 'Union Ave & Root St', 'Kostner Ave & Lake St', 'Greenview Ave & Jarvis Ave', 'Southport Ave & Irving Park Rd', 'Wabash Ave & Wacker Pl', 'Kedzie Ave & Harrison St', 'Halsted St & 51st St', 'South Shore Dr & 67th St', 'Broadway & Wilson Ave', 'Warren Park West', 'Mies van der Rohe Way & Chicago Ave', 'Broadway & Barry Ave', 'Lincoln Ave & Fullerton Ave', 'Western Ave & Congress Pkwy', 'Michigan Ave & 8th St', 'Humboldt Blvd & Armitage Ave', 'Ashland Ave & Harrison St', 'Princeton Ave & Garfield Blvd', 'Ashland Ave & Grand Ave', 'Kosciuszko Park', 'Halsted St & Polk St', 'Clifton Ave & Lawrence Ave', 'State St & 19th St', 'Lake Shore Dr & Ohio St', 'Wentworth Ave & Archer Ave', 'Rockwell St & Eastwood Ave', 'Lake Park Ave & 47th St', 'Spaulding Ave & Armitage Ave', 'Central Park Ave & North Ave', 'Princeton Ave & 47th St', 'Wabash Ave & Cermak Rd', 'Dodge Ave & Church St', 'Emerald Ave & 28th St', 'Clark St & Grace St', 'Lombard Ave & Madison St', 'Keystone Ave & Montrose Ave', 'Racine Ave & Congress Pkwy', 'Cannon Dr & Fullerton Ave', 'Stony Island Ave & 82nd St', 'Indiana Ave & Roosevelt Rd', 'Green St & Madison St', 'LaSalle St & Jackson Blvd', 'Milwaukee Ave & Grand Ave', 'Forest Ave & Lake St', 'May St & Cullerton St', 'Ashland Ave & Archer Ave', 'Central Park Ave & Elbridge Ave', 'California Ave & 26th St', 'Wabash Ave & Adams St', 'Larrabee St & North Ave', 'Franklin St & Lake St', 'Leavitt St & Armitage Ave', 'Ashland Ave & Wellington Ave', 'Wells St & Walton St', 'Damen Ave & 59th St', 'Lake Shore Dr & Diversey Pkwy', 'Canal St & Harrison St', 'Washtenaw Ave & Lawrence Ave', 'Logan Blvd & Elston Ave', 'Clifton Ave & Armitage Ave', 'California Ave & Fletcher St', 'Marshfield Ave & Cortland St', 'Oak Park Ave & Harrison St', 'Lake Park Ave & 35th St', 'State St & Pershing Rd', 'Campbell Ave & Fullerton Ave', 'Oak Park Ave & South Blvd', 'Indiana Ave & 40th St', 'Eastlake Ter & Rogers Ave', 'Lombard Ave & Garfield St', 'LaSalle St & Illinois St', 'Lincoln Ave & Leavitt St', 'Shields Ave & 31st St', 'Damen Ave & Leland Ave', 'Halsted St & Archer Ave', 'Mason Ave & Madison St', 'State St & Harrison St', 'Bennett Ave & 79th St', 'Ashland Ave & 69th St', 'Leavitt St & Addison St', 'Kingsbury St & Erie St', 'Clark St & Berwyn Ave', 'Clark St & Schreiber Ave', 'Broadway & Belmont Ave', 'South Shore Dr & 71st St', 'Wentworth Ave & 63rd St', 'Hoyne Ave & 47th St', 'Cityfront Plaza Dr & Pioneer Ct', 'Halsted St & Blackhawk St (*)', 'Cottage Grove Ave & 78th St', 'Clarendon Ave & Gordon Ter', 'Sheridan Rd & Loyola Ave', 'East Ave & Madison St', 'Clinton St & Lake St', 'Marshfield Ave & 44th St', 'Greenview Ave & Fullerton Ave', 'Ravenswood Ave & Irving Park Rd', 'Clark St & Elm St', 'Damen Ave & Sunnyside Ave', 'Canal St & Monroe St (*)', 'Wentworth Ave & 33rd St', 'Columbus Dr & Randolph St', 'Sheridan Rd & Noyes St (NU)', 'Glenwood Ave & Touhy Ave', 'Franklin St & Monroe St', 'Halsted St & Maxwell St', 'Western Ave & Howard St', 'Avondale Ave & Irving Park Rd', 'Sacramento Blvd & Franklin Blvd', 'Ogden Ave & Roosevelt Rd', 'Lake Park Ave & 56th St', 'Shedd Aquarium', 'Laramie Ave & Kinzie St', 'Stony Island Ave & 75th St', 'Michigan Ave & Washington St', 'Damen Ave & 51st St', 'Kilbourn Ave & Milwaukee Ave', 'Cottage Grove Ave & 51st St', 'Damen Ave & Augusta Blvd', 'Western Ave & 24th St', 'Milwaukee Ave & Cuyler Ave', 'Morgan St & Lake St', 'Lincoln Ave & Winona St', 'Lincoln Ave & Diversey Pkwy', 'Wentworth Ave & 24th St', 'Clark St & Lunt Ave', 'Broadway & Thorndale Ave', 'Seeley Ave & Garfield Blvd', 'Buckingham Fountain', 'Budlong Woods Library', 'McCormick Place', 'Vernon Ave & 79th St', 'Stockton Dr & Wrightwood Ave', 'Morgan St & 31st St', 'Franklin St & Jackson Blvd', 'Damen Ave & Pershing Rd', 'Stony Island Ave & South Chicago Ave', 'Western Ave & Monroe St', 'Morgan St & Pershing Rd', 'Kedzie Ave & 24th St', 'Albany (Kedzie) Ave & Montrose Ave', 'Prairie Ave & 43rd St', 'Austin Blvd & Lake St', 'Ashland Ave & Wrightwood Ave', 'Damen Ave & Foster Ave', 'Clarendon Ave & Junior Ter', 'Lakeview Ave & Fullerton Pkwy', 'California Ave & Division St', 'Indiana Ave & 31st St', 'Manor Ave & Leland Ave', 'Wilton Ave & Belmont Ave', 'Wisconsin Ave & Madison St', 'Loomis St & Archer Ave', 'Southport Ave & Clark St', 'Ashland Ave & Blackhawk St', 'Calumet Ave & 33rd St', 'Shields Ave & 43rd St', 'Western Ave & Lunt Ave', 'Adler Planetarium', 'Southport Ave & Clybourn Ave', 'Museum of Science and Industry', 'Cottage Grove Ave & 63rd St', 'Clark St & Jarvis Ave', 'Pine Grove Ave & Waveland Ave', 'Campbell Ave & North Ave', 'Ashland Ave & Grace St', 'Vernon Ave & 75th St', 'Shields Ave & 28th Pl', 'Forest Ave & Chicago Ave', 'South Shore Dr & 74th St', 'Ashland Ave & Pershing Rd', 'California Ave & 23rd Pl', 'Racine Ave & 18th St', 'Christiana Ave & Lawrence Ave', 'Pulaski Rd & Eddy St', 'Pulaski Rd & Madison St', 'Orleans St & Merchandise Mart Plaza', 'Austin Blvd & Chicago Ave', 'Fort Dearborn Dr & 31st St', 'South Chicago Ave & 83rd St', 'Lakefront Trail & Bryn Mawr Ave', 'Chicago Ave & Sheridan Rd', 'Kimbark Ave & 53rd St', 'Canal St & Madison St', 'Lincoln Ave & Addison St', 'Wood St & Division St', 'Jeffery Blvd & 76th St', 'Rush St & Hubbard St', 'Kedzie Ave & Palmer Ct', 'California Ave & Milwaukee Ave', 'Kedzie Ave & Roosevelt Rd', 'Central St & Girard Ave', 'Mies van der Rohe Way & Chestnut St', 'Clinton St & Jackson Blvd', 'Blackstone Ave & Hyde Park Blvd', 'Halsted St & 69th St', 'Ashland Ave & 13th St', 'Lake Park Ave & 53rd St', 'Lawndale Ave & 23rd St', 'Sheridan Rd & Montrose Ave', 'Calumet Ave & 35th St', 'Ashland Ave & 50th St', 'Marion St & South Blvd', 'Michigan Ave & 14th St', 'Broadway & Berwyn Ave', 'Sheffield Ave & Fullerton Ave', 'Racine Ave & Belmont Ave', 'Bosworth Ave & Howard St', 'Milwaukee Ave & Wabansia Ave', 'Prairie Ave & Garfield Blvd', 'Eberhart Ave & 61st St', 'LaSalle St & Adams St', 'Damen Ave & Cortland St', 'Damen Ave & Chicago Ave', 'Michigan Ave & Oak St', 'Field Museum', 'State St & Randolph St', 'Loomis St & Taylor St (*)', 'Jeffery Blvd & 71st St', 'Racine Ave & Wrightwood Ave', 'Racine Ave & Randolph St', 'Elizabeth St & 47th St', 'Artesian Ave & Hubbard St', 'May St & 69th St', 'California Ave & Byron St', 'Ellis Ave & 60th St', '900 W Harrison St', 'State St & Pearson St', 'Rhodes Ave & 32nd St', 'Francisco Ave & Foster Ave', 'Knox Ave & Montrose Ave', 'Dearborn St & Erie St', 'Damen Ave & Clybourn Ave', 'Wells St & Polk St', 'Sedgwick St & Schiller St', 'Western Blvd & 48th Pl', 'Greenwood Ave & 47th St', 'Damen Ave & Madison St', 'Laramie Ave & Gladys Ave', 'Broadway & Granville Ave', 'Central Park Ave & Ogden Ave', 'Dorchester Ave & 63rd St', 'Calumet Ave & 71st St', 'Bissell St & Armitage Ave', 'Halsted St & 18th St', 'Wolcott Ave & Polk St', 'Washtenaw Ave & 15th St (*)', 'Conservatory Dr & Lake St', 'Larrabee St & Webster Ave', 'Cottage Grove Ave & 67th St', 'Drake Ave & Montrose Ave', 'Desplaines St & Jackson Blvd', 'Ellis Ave & 58th St', 'Cottage Grove Ave & 43rd St', 'Central St Metra', 'Stetson Ave & South Water St', 'Halsted St & Wrightwood Ave', 'Canal St & Adams St', 'East Ave & Garfield St', 'Broadway & Waveland Ave', 'Maplewood Ave & Peterson Ave', 'Damen Ave & Division St', 'Paulina Ave & North Ave', 'LaSalle St & Washington St', 'Clark St & Montrose Ave', 'Clybourn Ave & Division St', 'Sheridan Rd & Greenleaf Ave', 'Michigan Ave & Madison St', 'Kimball Ave & Belmont Ave', 'Blue Island Ave & 18th St', 'Albany Ave & Bloomingdale Ave', 'Clark St & Congress Pkwy', 'Ashland Ave & 66th St', 'Wabash Ave & 87th St', 'Pulaski Rd & Congress Pkwy', 'Campbell Ave & Montrose Ave', 'Halsted St & 37th St', 'St. Clair St & Erie St', 'St. Louis Ave & Balmoral Ave', 'MLK Jr Dr & 83rd St', 'Benson Ave & Church St', 'Emerald Ave & 31st St', 'Damen Ave & Charleston St', 'Millennium Park', 'Sheridan Rd & Lawrence Ave', 'Kedzie Ave & Foster Ave', 'Aberdeen St & Jackson Blvd', 'Damen Ave & Wellington Ave', 'University Ave & 57th St', 'Clinton St & 18th St', 'Oakley Ave & Touhy Ave', 'Michigan Ave & Lake St', 'Sangamon St & Washington Blvd (*)', 'Evans Ave & 75th St', 'Clarendon Ave & Leland Ave', 'Dearborn St & Adams St', 'State St & 33rd St', 'Lake Shore Dr & Wellington Ave', 'Ashland Ave & Division St', 'State St & 29th St', 'Indiana Ave & 26th St', 'Harper Ave & 59th St', 'Damen Ave & Coulter St', 'Marshfield Ave & 59th St', 'Loomis St & Lexington St', 'Loomis St & Jackson Blvd', 'State St & 79th St', 'Ritchie Ct & Banks St', 'Kenton Ave & Madison St', 'California Ave & Lake St', 'Racine Ave & Garfield Blvd', 'Halsted St & North Branch St', 'Damen Ave & Melrose Ave', 'Halsted St & Roscoe St', 'Clark St & Elmdale Ave', 'Clark St & Leland Ave', 'Albany Ave & 26th St', 'Sheridan Rd & Irving Park Rd', 'Sedgwick St & Huron St', 'Ashland Ave & 21st St', 'Ashland Ave & Belle Plaine Ave', 'Broadway & Argyle St', 'MLK Jr Dr & 47th St', 'Ellis Ave & 83rd St', 'Lake Shore Dr & North Blvd', 'Racine Ave & Fullerton Ave', 'Halsted St & Roosevelt Rd', 'Halsted St & 56th St', 'Sheffield Ave & Webster Ave', 'Hampden Ct & Diversey Pkwy', 'Glenwood Ave & Morse Ave', '63rd St Beach', 'Federal St & Polk St', 'Rush St & Superior St', 'Ravenswood Ave & Montrose Ave (*)', 'Clark St & Chicago Ave', 'Drake Ave & Addison St', 'Field Blvd & South Water St', 'Halsted St & 59th St', 'Clinton St & Roosevelt Rd', 'Clark St & Touhy Ave', 'Normal Ave & 72nd St', 'MLK Jr Dr & 56th St (*)', 'Dusable Harbor', 'State St & Kinzie St', 'Franklin St & Chicago Ave', 'Broadway & Ridge Ave', 'Ashland Ave & Garfield Blvd', 'Clark St & Lincoln Ave', 'Streeter Dr & Grand Ave', 'Dearborn Pkwy & Delaware Pl', 'MLK Jr Dr & 63rd St', 'Morgan St & Polk St', 'Oakley Ave & Roscoe St', 'Milwaukee Ave & Rockwell St', 'Dearborn St & Monroe St', 'Chicago Ave & Washington St', 'Kedzie Ave & Bryn Mawr Ave', 'Valli Produce - Evanston Plaza', 'Halsted St & 21st St', 'Kedzie Ave & 21st St', 'Ridge Blvd & Howard St', 'Western Ave & Division St', 'Wabash Ave & 8th St', 'Saginaw Ave & Exchange Ave', 'Wilton Ave & Diversey Pkwy', 'Central Ave & Harrison St', 'Financial Pl & Congress Pkwy', 'McClurg Ct & Illinois St', 'Wells St & Concord Ln', 'California Ave & 21st St', 'Clark St & Armitage Ave', 'Ashland Ave & Chicago Ave', 'Woodlawn Ave & 75th St', 'Clinton St & Madison St', 'Wallace St & 35th St', 'Jeffery Blvd & 67th St', 'Larrabee St & Oak St', 'State St & 76th St', '2112 W Peterson Ave', 'Clinton St & Polk St (*)', 'Leavitt St & Lawrence Ave', 'Ashland Ave & McDowell Ave', 'Racine Ave & 13th St', 'Wacker Dr & Washington St', 'Sheffield Ave & Willow St', 'Cornell Ave & Hyde Park Blvd', 'Cicero Ave & Flournoy St', 'Kedzie Ave & Chicago Ave', 'Woodlawn Ave & Lake Park Ave', 'Central Park Blvd & 5th Ave', 'Sheffield Ave & Wellington Ave', 'Keystone Ave & Fullerton Ave', 'Clark St & Winnemac Ave', 'Richmond St & Diversey Ave', 'Larrabee St & Menomonee St', 'Ridgeland Ave & Lake St', 'Southport Ave & Roscoe St', 'Dorchester Ave & 49th St', 'May St & Taylor St', 'Clark St & Wrightwood Ave', 'Claremont Ave & Hirsch St', 'Kedzie Ave & Milwaukee Ave', 'Clark St & North Ave', 'Elston Ave & Wabansia Ave', 'Western Ave & 21st St', 'DuSable Museum', 'Pulaski Rd & Lake St', 'Ravenswood Ave & Lawrence Ave', 'Hermitage Ave & Polk St', 'Halsted St & 47th Pl', 'Throop St & 52nd St', 'Halsted St & 63rd St', 'Lake Shore Dr & Monroe St', 'Normal Ave & Archer Ave', 'Noble St & Milwaukee Ave', 'Aberdeen St & Monroe St', 'Wells St & Elm St', 'Broadway & Sheridan Rd', 'Clark St & Schiller St', 'Wood St & Taylor St', 'University Library (NU)', 'Montrose Harbor', 'Racine Ave & 35th St', 'Clinton St & Tilden St', 'State St & Van Buren St', 'Drake Ave & Fullerton Ave', 'Ravenswood Ave & Berteau Ave', 'Broadway & Cornelia Ave', 'Western Ave & Leland Ave', 'Woodlawn Ave & 55th St', 'Larrabee St & Kingsbury St', 'Clark St & Columbia Ave', 'Calumet Ave & 51st St', 'Halsted St & Dickens Ave', 'Fairfield Ave & Roosevelt Rd', 'Damen Ave & Cullerton St', 'Lincoln Ave & Belle Plaine Ave', 'Warren Park East', 'Sedgwick St & Webster Ave', 'Calumet Ave & 21st St', 'Wells St & 19th St', 'Lake Shore Dr & Belmont Ave', 'Cottage Grove Ave & 47th St', 'Phillips Ave & 82nd St', 'Millard Ave & 26th St', 'California Ave & Cortez St', 'Cottage Grove Ave & 83rd St', 'Kingsbury St & Kinzie St', 'California Ave & North Ave', 'Yates Blvd & 75th St', 'Talman Ave & Addison St', 'Southport Ave & Wellington Ave', 'Burnham Harbor', 'Paulina St & Howard St', 'Perry Ave & 69th St', 'Western Ave & Granville Ave', 'Western Ave & Walton St', 'Canal St & Taylor St', 'Central Ave & Lake St', 'Daley Center Plaza', 'Sheridan Rd & Buena Ave', 'Jefferson St & Monroe St', 'Sedgwick St & North Ave', 'Avers Ave & Belmont Ave', 'Wabash Ave & 83rd St', 'Clark St & Bryn Mawr Ave', 'Lincoln Ave & Waveland Ave', 'Clark St & 9th St (AMLI)', 'Desplaines St & Kinzie St', 'Stave St & Armitage Ave', 'Paulina St & 18th St', 'Racine Ave (May St) & Fulton St', 'Green St & Randolph St', 'Ogden Ave & Race Ave', 'Eckhart Park', 'Wentworth Ave & 35th St', 'Peoria St & Jackson Blvd', 'Oakley Ave & Irving Park Rd', 'Clark St & Lake St', 'Troy St & North Ave', 'Ogden Ave & Chicago Ave', 'Orleans St & Elm St (*)', 'Cuyler Ave & Augusta St', 'Orleans St & Chestnut St (NEXT Apts)', 'Kedzie Ave & Leland Ave']\n"
     ]
    }
   ],
   "source": [
    "start_stations = list(set(column_to_list(data_list, 3)))\n",
    "\n",
    "print(\"\\nTASK 10: Printing start stations:\")\n",
    "print(len(start_stations))\n",
    "print(start_stations)"
   ]
  },
  {
   "cell_type": "markdown",
   "metadata": {},
   "source": [
    "Checking the code"
   ]
  },
  {
   "cell_type": "code",
   "execution_count": 22,
   "metadata": {},
   "outputs": [],
   "source": [
    "assert len(start_stations) == 582, \"TASK 10: Wrong len of start stations.\""
   ]
  },
  {
   "cell_type": "markdown",
   "metadata": {},
   "source": [
    "### Task 11\n",
    "Go back and make sure you documented your functions. Explain the input, output and what it do. Example:\n",
    "def new_function(param1: int, param2: str) -> list:\n",
    "```\n",
    "    \"\"\"\n",
    "      Example function with annotations.\n",
    "      Args:\n",
    "          param1: The first parameter.\n",
    "          param2: The second parameter.\n",
    "      Returns:\n",
    "          List of X values\n",
    "\n",
    "    \"\"\"\n",
    "```\n"
   ]
  },
  {
   "cell_type": "markdown",
   "metadata": {},
   "source": [
    "### TASK 12 - Challenge! (Optional)\n",
    "Create a function to count user types without hardcoding the types\n",
    "so we can use this function with a different kind of data.\n"
   ]
  },
  {
   "cell_type": "code",
   "execution_count": 23,
   "metadata": {},
   "outputs": [],
   "source": [
    "def count_items(column_list):\n",
    "    item_types = list(set(column_list))\n",
    "    count_items = []\n",
    "    \n",
    "    for item_type in item_types:\n",
    "        items = list(filter(lambda d: d.lower() == item_type.lower(), column_list))\n",
    "        count_items.append(len(items))\n",
    "    \n",
    "    return item_types, count_items\n"
   ]
  },
  {
   "cell_type": "markdown",
   "metadata": {},
   "source": [
    "Checking the code..."
   ]
  },
  {
   "cell_type": "code",
   "execution_count": 24,
   "metadata": {},
   "outputs": [
    {
     "name": "stdout",
     "output_type": "stream",
     "text": [
      "\n",
      "TASK 11: Printing results for count_items()\n",
      "Types: ['', 'Male', 'Female'] Counts: [316867, 935854, 298784]\n"
     ]
    }
   ],
   "source": [
    "# ------------ DO NOT CHANGE ANY CODE HERE ------------\n",
    "column_list = column_to_list(data_list, -2)\n",
    "types, counts = count_items(column_list)\n",
    "print(\"\\nTASK 11: Printing results for count_items()\")\n",
    "print(\"Types:\", types, \"Counts:\", counts)\n",
    "assert len(types) == 3, \"TASK 11: There are 3 types of gender!\"\n",
    "assert sum(counts) == 1551505, \"TASK 11: Returning wrong result!\"\n",
    "# -----------------------------------------------------"
   ]
  }
 ],
 "metadata": {
  "kernelspec": {
   "display_name": "Python 3",
   "language": "python",
   "name": "python3"
  },
  "language_info": {
   "codemirror_mode": {
    "name": "ipython",
    "version": 3
   },
   "file_extension": ".py",
   "mimetype": "text/x-python",
   "name": "python",
   "nbconvert_exporter": "python",
   "pygments_lexer": "ipython3",
   "version": "3.6.5"
  }
 },
 "nbformat": 4,
 "nbformat_minor": 2
}
